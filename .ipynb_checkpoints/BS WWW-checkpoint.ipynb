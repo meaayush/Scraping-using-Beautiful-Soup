{
 "cells": [
  {
   "cell_type": "markdown",
   "id": "33aea18b",
   "metadata": {},
   "source": [
    "#### link: http://info.cern.ch/hypertext/WWW/TheProject.html"
   ]
  },
  {
   "cell_type": "code",
   "execution_count": 37,
   "id": "e0792748",
   "metadata": {},
   "outputs": [],
   "source": [
    "import requests\n",
    "from bs4 import BeautifulSoup"
   ]
  },
  {
   "cell_type": "code",
   "execution_count": 35,
   "id": "7d4fa8b1",
   "metadata": {},
   "outputs": [
    {
     "data": {
      "text/plain": [
       "<Response [200]>"
      ]
     },
     "execution_count": 35,
     "metadata": {},
     "output_type": "execute_result"
    }
   ],
   "source": [
    "response=requests.get('http://info.cern.ch/hypertext/WWW/TheProject.html')\n",
    "response"
   ]
  },
  {
   "cell_type": "code",
   "execution_count": 36,
   "id": "d965631e",
   "metadata": {},
   "outputs": [
    {
     "data": {
      "text/plain": [
       "{'Date': 'Sun, 19 Dec 2021 18:44:35 GMT', 'Server': 'Apache', 'Last-Modified': 'Thu, 03 Dec 1992 08:37:20 GMT', 'ETag': '\"8a9-291e721905000\"', 'Accept-Ranges': 'bytes', 'Content-Length': '2217', 'Connection': 'close', 'Content-Type': 'text/html'}"
      ]
     },
     "execution_count": 36,
     "metadata": {},
     "output_type": "execute_result"
    }
   ],
   "source": [
    "response.headers"
   ]
  },
  {
   "cell_type": "code",
   "execution_count": 47,
   "id": "01586208",
   "metadata": {},
   "outputs": [],
   "source": [
    "html_data=response.text"
   ]
  },
  {
   "cell_type": "code",
   "execution_count": 48,
   "id": "0e705841",
   "metadata": {},
   "outputs": [],
   "source": [
    "data=BeautifulSoup(html_data,'html.parser')"
   ]
  },
  {
   "cell_type": "code",
   "execution_count": 98,
   "id": "64b375ea",
   "metadata": {},
   "outputs": [],
   "source": [
    "# print(data.prettify())"
   ]
  },
  {
   "cell_type": "code",
   "execution_count": 51,
   "id": "8022e935",
   "metadata": {},
   "outputs": [
    {
     "data": {
      "text/plain": [
       "<h1>World Wide Web</h1>"
      ]
     },
     "execution_count": 51,
     "metadata": {},
     "output_type": "execute_result"
    }
   ],
   "source": [
    "data.h1"
   ]
  },
  {
   "cell_type": "code",
   "execution_count": 52,
   "id": "dcdaf0e0",
   "metadata": {},
   "outputs": [
    {
     "data": {
      "text/plain": [
       "'World Wide Web'"
      ]
     },
     "execution_count": 52,
     "metadata": {},
     "output_type": "execute_result"
    }
   ],
   "source": [
    "data.h1.string"
   ]
  },
  {
   "cell_type": "code",
   "execution_count": 53,
   "id": "66304c85",
   "metadata": {},
   "outputs": [
    {
     "data": {
      "text/plain": [
       "<title>The World Wide Web project</title>"
      ]
     },
     "execution_count": 53,
     "metadata": {},
     "output_type": "execute_result"
    }
   ],
   "source": [
    "data.title"
   ]
  },
  {
   "cell_type": "code",
   "execution_count": 54,
   "id": "4962be6a",
   "metadata": {},
   "outputs": [
    {
     "data": {
      "text/plain": [
       "'The World Wide Web project'"
      ]
     },
     "execution_count": 54,
     "metadata": {},
     "output_type": "execute_result"
    }
   ],
   "source": [
    "data.title.string"
   ]
  },
  {
   "cell_type": "code",
   "execution_count": 56,
   "id": "f0587890",
   "metadata": {},
   "outputs": [
    {
     "name": "stdout",
     "output_type": "stream",
     "text": [
      "\n",
      "The World Wide Web project\n",
      "\n",
      "\n",
      "\n",
      "World Wide WebThe WorldWideWeb (W3) is a wide-area\n",
      "hypermedia information retrieval\n",
      "initiative aiming to give universal\n",
      "access to a large universe of documents.\n",
      "Everything there is online about\n",
      "W3 is linked directly or indirectly\n",
      "to this document, including an executive\n",
      "summary of the project, Mailing lists\n",
      ", Policy , November's  W3  news ,\n",
      "Frequently Asked Questions .\n",
      "\n",
      "What's out there?\n",
      " Pointers to the\n",
      "world's online information, subjects\n",
      ", W3 servers, etc.\n",
      "Help\n",
      " on the browser you are using\n",
      "Software Products\n",
      " A list of W3 project\n",
      "components and their current state.\n",
      "(e.g. Line Mode ,X11 Viola ,  NeXTStep\n",
      ", Servers , Tools , Mail robot ,\n",
      "Library )\n",
      "Technical\n",
      " Details of protocols, formats,\n",
      "program internals etc\n",
      "Bibliography\n",
      " Paper documentation\n",
      "on  W3 and references.\n",
      "People\n",
      " A list of some people involved\n",
      "in the project.\n",
      "History\n",
      " A summary of the history\n",
      "of the project.\n",
      "How can I help ?\n",
      " If you would like\n",
      "to support the web..\n",
      "Getting code\n",
      " Getting the code by\n",
      "anonymous FTP , etc.\n",
      "\n",
      "\n",
      "\n"
     ]
    }
   ],
   "source": [
    "print(data.get_text())"
   ]
  },
  {
   "cell_type": "code",
   "execution_count": 59,
   "id": "995ec9be",
   "metadata": {},
   "outputs": [
    {
     "data": {
      "text/plain": [
       "<a href=\"WhatIs.html\" name=\"0\">\n",
       "hypermedia</a>"
      ]
     },
     "execution_count": 59,
     "metadata": {},
     "output_type": "execute_result"
    }
   ],
   "source": [
    "data.a"
   ]
  },
  {
   "cell_type": "code",
   "execution_count": 62,
   "id": "b7a3aec3",
   "metadata": {},
   "outputs": [
    {
     "data": {
      "text/plain": [
       "'WhatIs.html'"
      ]
     },
     "execution_count": 62,
     "metadata": {},
     "output_type": "execute_result"
    }
   ],
   "source": [
    "data.a['href']"
   ]
  },
  {
   "cell_type": "code",
   "execution_count": 78,
   "id": "c4886c81",
   "metadata": {},
   "outputs": [
    {
     "name": "stdout",
     "output_type": "stream",
     "text": [
      "25\n"
     ]
    }
   ],
   "source": [
    "li=data.find_all('a')\n",
    "print(len(li))"
   ]
  },
  {
   "cell_type": "code",
   "execution_count": 85,
   "id": "b19b8fef",
   "metadata": {},
   "outputs": [
    {
     "name": "stdout",
     "output_type": "stream",
     "text": [
      "Link: WhatIs.html Text: \n",
      "hypermedia\n",
      "Link: Summary.html Text: executive\n",
      "summary\n",
      "Link: Administration/Mailing/Overview.html Text: Mailing lists\n",
      "Link: Policy.html Text: Policy\n",
      "Link: News/9211.html Text: W3  news\n",
      "Link: FAQ/List.html Text: Frequently Asked Questions\n",
      "Link: ../DataSources/Top.html Text: What's out there?\n",
      "Link: ../DataSources/bySubject/Overview.html Text:  subjects\n",
      "Link: ../DataSources/WWW/Servers.html Text: W3 servers\n",
      "Link: Help.html Text: Help\n",
      "Link: Status.html Text: Software Products\n",
      "Link: LineMode/Browser.html Text: Line Mode\n",
      "Link: Status.html#35 Text: Viola\n",
      "Link: NeXT/WorldWideWeb.html Text: NeXTStep\n",
      "Link: Daemon/Overview.html Text: Servers\n",
      "Link: Tools/Overview.html Text: Tools\n",
      "Link: MailRobot/Overview.html Text:  Mail robot\n",
      "Link: Status.html#57 Text: \n",
      "Library\n",
      "Link: Technical.html Text: Technical\n",
      "Link: Bibliography.html Text: Bibliography\n",
      "Link: People.html Text: People\n",
      "Link: History.html Text: History\n",
      "Link: Helping.html Text: How can I help\n",
      "Link: ../README.html Text: Getting code\n",
      "Link: LineMode/Defaults/Distribution.html Text: \n",
      "anonymous FTP\n"
     ]
    }
   ],
   "source": [
    "for i in li:\n",
    "    print(f\"Link: {i['href']} Text: {i.string}\")"
   ]
  },
  {
   "cell_type": "code",
   "execution_count": 92,
   "id": "1be8964b",
   "metadata": {},
   "outputs": [
    {
     "name": "stdout",
     "output_type": "stream",
     "text": [
      "../DataSources/Top.html\n",
      "../DataSources/bySubject/Overview.html\n",
      "../DataSources/WWW/Servers.html\n",
      "Help.html\n",
      "Status.html\n",
      "LineMode/Browser.html\n",
      "Status.html#35\n",
      "NeXT/WorldWideWeb.html\n",
      "Daemon/Overview.html\n",
      "Tools/Overview.html\n",
      "MailRobot/Overview.html\n",
      "Status.html#57\n",
      "Technical.html\n",
      "Bibliography.html\n",
      "People.html\n",
      "History.html\n",
      "Helping.html\n",
      "../README.html\n",
      "LineMode/Defaults/Distribution.html\n"
     ]
    }
   ],
   "source": [
    "li_2=data.dl.find_all('a')\n",
    "for i in li_2:\n",
    "    print(i['href'])"
   ]
  },
  {
   "cell_type": "code",
   "execution_count": 94,
   "id": "37d0b0e3",
   "metadata": {},
   "outputs": [],
   "source": [
    "li_3=data.dl.find_all('dt')"
   ]
  },
  {
   "cell_type": "code",
   "execution_count": 97,
   "id": "e2dc6833",
   "metadata": {},
   "outputs": [
    {
     "name": "stdout",
     "output_type": "stream",
     "text": [
      "What's out there?\n",
      "Help\n",
      "Software Products\n",
      "Technical\n",
      "Bibliography\n",
      "People\n",
      "History\n",
      "How can I help\n",
      "Getting code\n"
     ]
    }
   ],
   "source": [
    "for i in li_3:\n",
    "    print(i.a.string)"
   ]
  }
 ],
 "metadata": {
  "kernelspec": {
   "display_name": "Python 3 (ipykernel)",
   "language": "python",
   "name": "python3"
  },
  "language_info": {
   "codemirror_mode": {
    "name": "ipython",
    "version": 3
   },
   "file_extension": ".py",
   "mimetype": "text/x-python",
   "name": "python",
   "nbconvert_exporter": "python",
   "pygments_lexer": "ipython3",
   "version": "3.10.0"
  }
 },
 "nbformat": 4,
 "nbformat_minor": 5
}
